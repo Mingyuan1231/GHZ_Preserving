{
 "cells": [
  {
   "cell_type": "markdown",
   "id": "3b64debf",
   "metadata": {},
   "source": [
    "Show toQC"
   ]
  },
  {
   "cell_type": "code",
   "execution_count": 1,
   "id": "a35314db",
   "metadata": {},
   "outputs": [],
   "source": [
    "using GHZPreserving\n",
    "using QuantumClifford"
   ]
  },
  {
   "cell_type": "markdown",
   "id": "791a1f8e",
   "metadata": {},
   "source": [
    "Try CNOT gate<br>\n",
    "In GHZ_Preserving, CNOT12 is the 2nd gate in H group, the method for Hgroup is `Hgroup{N}(gate_idx,idx1,idx2)`.<br>\n",
    "N is the number of qubit, here can be any number;<br>\n",
    "gate_idx is the idx in Hgroup, for CNOT12 is 2;<br>\n",
    "idx1 and idx2 is the qubit which the gate acting on, for CNOT12 is 1 and 2. <br>\n",
    "`toQCcircuit` will generate `N` gates which acting homogeneously. <br>\n",
    "For ref, the full gate list in H group is [SWAP,CNOT12,XCX21,XCX12,Identity,CNOT21]"
   ]
  },
  {
   "cell_type": "code",
   "execution_count": 2,
   "id": "c23a3c06",
   "metadata": {},
   "outputs": [
    {
     "data": {
      "text/plain": [
       "Hgroup{3}(2, 1, 2, [[1, 9, 17, 25, 33, 41, 49, 57, 2, 10  …  55, 63, 8, 16, 24, 32, 40, 48, 56, 64], [1, 2, 3, 4, 37, 38, 39, 40, 10, 9  …  21, 22, 60, 59, 58, 57, 32, 31, 30, 29], [1, 10, 19, 28, 33, 42, 51, 60, 2, 9  …  21, 30, 40, 47, 54, 61, 8, 15, 22, 29], [1, 9, 17, 25, 37, 45, 53, 61, 10, 2  …  35, 43, 32, 24, 16, 8, 60, 52, 44, 36], [1, 2, 3, 4, 5, 6, 7, 8, 9, 10  …  55, 56, 57, 58, 59, 60, 61, 62, 63, 64], [1, 10, 19, 28, 5, 14, 23, 32, 9, 2  …  35, 44, 61, 54, 47, 40, 57, 50, 43, 36]])"
      ]
     },
     "metadata": {},
     "output_type": "display_data"
    }
   ],
   "source": [
    "h_gate=Hgroup{3}(2,1,2)"
   ]
  },
  {
   "cell_type": "code",
   "execution_count": 3,
   "id": "61d112ee",
   "metadata": {},
   "outputs": [
    {
     "data": {
      "text/plain": [
       "3-element Vector{SparseGate}:\n",
       " SparseGate{QuantumClifford.Tableau{SubArray{UInt8, 1, Vector{UInt8}, Tuple{UnitRange{Int64}}, true}, SubArray{UInt64, 2, Matrix{UInt64}, Tuple{Base.Slice{Base.OneTo{Int64}}, UnitRange{Int64}}, true}}}(CliffordOperator on 2 qubits, [1, 4])\n",
       " SparseGate{QuantumClifford.Tableau{SubArray{UInt8, 1, Vector{UInt8}, Tuple{UnitRange{Int64}}, true}, SubArray{UInt64, 2, Matrix{UInt64}, Tuple{Base.Slice{Base.OneTo{Int64}}, UnitRange{Int64}}, true}}}(CliffordOperator on 2 qubits, [2, 5])\n",
       " SparseGate{QuantumClifford.Tableau{SubArray{UInt8, 1, Vector{UInt8}, Tuple{UnitRange{Int64}}, true}, SubArray{UInt64, 2, Matrix{UInt64}, Tuple{Base.Slice{Base.OneTo{Int64}}, UnitRange{Int64}}, true}}}(CliffordOperator on 2 qubits, [3, 6])"
      ]
     },
     "metadata": {},
     "output_type": "display_data"
    }
   ],
   "source": [
    "cnot=toQCcircuit(h_gate)"
   ]
  },
  {
   "cell_type": "markdown",
   "id": "8d0de7e0",
   "metadata": {},
   "source": [
    "We can also try CZ gate<br>\n",
    "Similar for H group, the method for Fgroup is `Fgroup{N}(gate_idx,idx1,idx2,node)`;<br>\n",
    "Note here, early version I call it Fgroup, and later on it is renamed as B group, but this is just name change nothing else.<br>\n",
    "The additional `node` arg is ref to which node it acting on as B group is bilocal.<br>\n",
    "The gate idx for CZ gate is 4;<br>\n",
    "`toQCcircuit` will generate `2` gates which acting bilocally. <br>\n",
    "Full gate list in B group is [Phase1,CZ+Phase1, Identity, CZ, Phase2, CZ+Phase2, BothPhase, CZ+BothPhase]"
   ]
  },
  {
   "cell_type": "code",
   "execution_count": 4,
   "id": "a446e82f",
   "metadata": {},
   "outputs": [
    {
     "data": {
      "text/plain": [
       "Bgroup{3}(4, 1, 2, 1, Any[[[33, 34, 35, 36, 37, 38, 39, 40, 9, 10  …  55, 56, 25, 26, 27, 28, 29, 30, 31, 32], [37, 2, 3, 40, 33, 6, 7, 36, 9, 46  …  19, 56, 29, 58, 59, 32, 25, 62, 63, 28], [1, 2, 3, 4, 5, 6, 7, 8, 9, 10  …  55, 56, 57, 58, 59, 60, 61, 62, 63, 64], [1, 34, 35, 4, 5, 38, 39, 8, 13, 46  …  19, 52, 57, 26, 27, 60, 61, 30, 31, 64], [5, 2, 3, 8, 1, 6, 7, 4, 13, 10  …  55, 52, 61, 58, 59, 64, 57, 62, 63, 60], [5, 34, 35, 8, 1, 38, 39, 4, 9, 46  …  19, 56, 61, 26, 27, 64, 57, 30, 31, 60], [37, 34, 35, 40, 33, 38, 39, 36, 13, 10  …  55, 52, 29, 26, 27, 32, 25, 30, 31, 28], [33, 2, 3, 36, 37, 6, 7, 40, 13, 46  …  19, 52, 25, 58, 59, 28, 29, 62, 63, 32]], [[33, 34, 35, 36, 37, 38, 39, 40, 9, 10  …  23, 24, 57, 58, 59, 60, 61, 62, 63, 64], [37, 2, 39, 4, 33, 6, 35, 8, 9, 46  …  19, 56, 57, 30, 59, 32, 61, 26, 63, 28], [1, 2, 3, 4, 5, 6, 7, 8, 9, 10  …  55, 56, 57, 58, 59, 60, 61, 62, 63, 64], [1, 34, 3, 36, 5, 38, 7, 40, 13, 46  …  55, 24, 61, 30, 63, 32, 57, 26, 59, 28], [5, 2, 7, 4, 1, 6, 3, 8, 13, 10  …  51, 56, 61, 58, 63, 60, 57, 62, 59, 64], [5, 34, 7, 36, 1, 38, 3, 40, 9, 46  …  51, 24, 57, 30, 59, 32, 61, 26, 63, 28], [37, 34, 39, 36, 33, 38, 35, 40, 13, 10  …  19, 24, 61, 58, 63, 60, 57, 62, 59, 64], [33, 2, 35, 4, 37, 6, 39, 8, 13, 46  …  23, 56, 61, 30, 63, 32, 57, 26, 59, 28]]])"
      ]
     },
     "metadata": {},
     "output_type": "display_data"
    }
   ],
   "source": [
    "b_gate=Bgroup{3}(4,1,2,1)"
   ]
  },
  {
   "cell_type": "code",
   "execution_count": 5,
   "id": "09cb6b89",
   "metadata": {},
   "outputs": [
    {
     "data": {
      "text/plain": [
       "2-element Vector{SparseGate{QuantumClifford.Tableau{SubArray{UInt8, 1, Vector{UInt8}, Tuple{UnitRange{Int64}}, true}, SubArray{UInt64, 2, Matrix{UInt64}, Tuple{Base.Slice{Base.OneTo{Int64}}, UnitRange{Int64}}, true}}}}:\n",
       " SparseGate{QuantumClifford.Tableau{SubArray{UInt8, 1, Vector{UInt8}, Tuple{UnitRange{Int64}}, true}, SubArray{UInt64, 2, Matrix{UInt64}, Tuple{Base.Slice{Base.OneTo{Int64}}, UnitRange{Int64}}, true}}}(CliffordOperator on 2 qubits, [1, 4])\n",
       " SparseGate{QuantumClifford.Tableau{SubArray{UInt8, 1, Vector{UInt8}, Tuple{UnitRange{Int64}}, true}, SubArray{UInt64, 2, Matrix{UInt64}, Tuple{Base.Slice{Base.OneTo{Int64}}, UnitRange{Int64}}, true}}}(CliffordOperator on 2 qubits, [2, 5])"
      ]
     },
     "metadata": {},
     "output_type": "display_data"
    }
   ],
   "source": [
    "cz=toQCcircuit(b_gate)"
   ]
  },
  {
   "cell_type": "markdown",
   "id": "cbf3d50d",
   "metadata": {},
   "source": [
    "And Pauli Group, list as [X,Y,Z,I]. <br>\n",
    "`toQCcircuit` will generate `1` single qubit gate."
   ]
  },
  {
   "cell_type": "code",
   "execution_count": 6,
   "id": "71e319aa",
   "metadata": {},
   "outputs": [
    {
     "data": {
      "text/plain": [
       "PauliGroup{3}(2, 1, 2, Vector{Vector{Any}}[[[3, 2, 4], [4, 1, 3], [1, 4, 2], [2, 3, 1], [7, 6, 8], [8, 5, 7], [5, 8, 6], [6, 7, 5]], [[7, 6, 8], [8, 5, 7], [5, 8, 6], [6, 7, 5], [3, 2, 4], [4, 1, 3], [1, 4, 2], [2, 3, 1]], [[5, 5, 5], [6, 6, 6], [7, 7, 7], [8, 8, 8], [1, 1, 1], [2, 2, 2], [3, 3, 3], [4, 4, 4]], [[1, 1, 1], [2, 2, 2], [3, 3, 3], [4, 4, 4], [5, 5, 5], [6, 6, 6], [7, 7, 7], [8, 8, 8]]])"
      ]
     },
     "metadata": {},
     "output_type": "display_data"
    }
   ],
   "source": [
    "p_gate=PauliGroup{3}(2,1,2)"
   ]
  },
  {
   "cell_type": "code",
   "execution_count": 7,
   "id": "90d41fa8",
   "metadata": {},
   "outputs": [
    {
     "data": {
      "text/plain": [
       "sY on qubit 2\n",
       "X₁ ⟼ - X\n",
       "Z₁ ⟼ - Z"
      ]
     },
     "metadata": {},
     "output_type": "display_data"
    }
   ],
   "source": [
    "toQCcircuit(p_gate)"
   ]
  },
  {
   "cell_type": "markdown",
   "id": "ed8777a8",
   "metadata": {},
   "source": [
    "GHZ Measurement contain 3 args: `GHZMeasure(n,b,idx)`;<br>\n",
    "n as number of qubit of one ghz state;<br>\n",
    "b as basis which you want to measure, 1 for X, 3 for Z(2 for Y but no such basis for now);<br>\n",
    "idx as which ghz state are you measuring. <br>\n",
    "`NoisyGHZMeasureNoisyReset` contains one more arg for gate success rate. <br>\n",
    "`toQCcircuit` will only return the measurement basis, as no noisy measurement in QC"
   ]
  },
  {
   "cell_type": "code",
   "execution_count": 8,
   "id": "8f467ae4",
   "metadata": {},
   "outputs": [
    {
     "data": {
      "text/plain": [
       "GHZMeasure(3, 1, 2)"
      ]
     },
     "metadata": {},
     "output_type": "display_data"
    }
   ],
   "source": [
    "meas=GHZMeasure(3,1,2)"
   ]
  },
  {
   "cell_type": "code",
   "execution_count": 9,
   "id": "7cf2bbc8",
   "metadata": {},
   "outputs": [
    {
     "data": {
      "text/plain": [
       "3-element Vector{Any}:\n",
       " sMX(4, 0)\n",
       " sMX(5, 0)\n",
       " sMX(6, 0)"
      ]
     },
     "metadata": {},
     "output_type": "display_data"
    }
   ],
   "source": [
    "toQCcircuit(meas)"
   ]
  },
  {
   "cell_type": "code",
   "execution_count": 10,
   "id": "05d03aa8",
   "metadata": {},
   "outputs": [
    {
     "data": {
      "text/plain": [
       "NoisyGHZMeasureNoisyReset(GHZMeasure(3, 3, 3), 0.99, 1.0)"
      ]
     },
     "metadata": {},
     "output_type": "display_data"
    }
   ],
   "source": [
    "op=NoisyGHZMeasureNoisyReset(GHZMeasure(3, 3, 3), 0.99)"
   ]
  },
  {
   "cell_type": "code",
   "execution_count": 11,
   "id": "174f0c3a",
   "metadata": {},
   "outputs": [
    {
     "data": {
      "text/plain": [
       "3-element Vector{Any}:\n",
       " sMZ(7, 0)\n",
       " sMZ(8, 0)\n",
       " sMZ(9, 0)"
      ]
     },
     "metadata": {},
     "output_type": "display_data"
    }
   ],
   "source": [
    "toQCcircuit(op)"
   ]
  },
  {
   "cell_type": "markdown",
   "id": "3cb40ff3",
   "metadata": {},
   "source": [
    "The easiest way to get GHZState is `GHZState(n,m)`,<br>\n",
    "n is number of qubits in one ghz state;<br>\n",
    "m is number of ghz states;<br>\n",
    "this will generate ghz state with all positive phases.<br>\n",
    "we can call `Stabilizer` to see the full tableau;<br>\n",
    "Similar for `MixedDestabilizer`"
   ]
  },
  {
   "cell_type": "code",
   "execution_count": 21,
   "id": "ef175161",
   "metadata": {},
   "outputs": [
    {
     "data": {
      "text/plain": [
       "GHZState(3, 3, Bool[0, 0, 0, 0, 0, 0, 0, 0, 0])"
      ]
     },
     "metadata": {},
     "output_type": "display_data"
    }
   ],
   "source": [
    "state=GHZState(3,3)"
   ]
  },
  {
   "cell_type": "code",
   "execution_count": 22,
   "id": "ccf9a223",
   "metadata": {},
   "outputs": [
    {
     "data": {
      "text/plain": [
       "+ XXX______\n",
       "+ Z_Z______\n",
       "+ _ZZ______\n",
       "+ ___XXX___\n",
       "+ ___Z_Z___\n",
       "+ ____ZZ___\n",
       "+ ______XXX\n",
       "+ ______Z_Z\n",
       "+ _______ZZ"
      ]
     },
     "metadata": {},
     "output_type": "display_data"
    }
   ],
   "source": [
    "qcstate=Stabilizer(state)"
   ]
  },
  {
   "cell_type": "code",
   "execution_count": 23,
   "id": "7ec5fd6f",
   "metadata": {},
   "outputs": [
    {
     "data": {
      "text/plain": [
       "𝒟ℯ𝓈𝓉𝒶𝒷━━━━━\n",
       "+ Z________\n",
       " ⋮\n",
       "\n",
       "𝒮𝓉𝒶𝒷━━━━━━━\n",
       "+ XXX______\n",
       " ⋮\n"
      ]
     },
     "metadata": {},
     "output_type": "display_data"
    }
   ],
   "source": [
    "MixedDestabilizer(state)"
   ]
  },
  {
   "cell_type": "markdown",
   "id": "d0640dfc",
   "metadata": {},
   "source": [
    "Let's try a easy \"double selection\" example, 3 raw state to get 1 output state. <br>\n",
    "\"survivor\", 3, 3, 1, 3, 0.7, 0.99, 0.99, Union{NoisyGHZMeasureNoisyReset, Bgroup, Hgroup} <br>\n",
    "Hgroup{3}(2, 1, 3), <br>\n",
    "Hgroup{3}(2, 2, 3), <br>\n",
    "NoisyGHZMeasureNoisyReset(GHZMeasure(3, 3, 3), 0.99), <br>\n",
    "NoisyGHZMeasureNoisyReset(GHZMeasure(3, 1, 2), 0.99), <br>\n",
    "0.36905, [0.8718330849478391]\n"
   ]
  },
  {
   "cell_type": "code",
   "execution_count": 16,
   "id": "43018948",
   "metadata": {},
   "outputs": [
    {
     "data": {
      "text/plain": [
       "4-element Vector{Any}:\n",
       " Hgroup{3}(2, 1, 3, [[1, 9, 17, 25, 33, 41, 49, 57, 2, 10  …  55, 63, 8, 16, 24, 32, 40, 48, 56, 64], [1, 2, 3, 4, 37, 38, 39, 40, 10, 9  …  21, 22, 60, 59, 58, 57, 32, 31, 30, 29], [1, 10, 19, 28, 33, 42, 51, 60, 2, 9  …  21, 30, 40, 47, 54, 61, 8, 15, 22, 29], [1, 9, 17, 25, 37, 45, 53, 61, 10, 2  …  35, 43, 32, 24, 16, 8, 60, 52, 44, 36], [1, 2, 3, 4, 5, 6, 7, 8, 9, 10  …  55, 56, 57, 58, 59, 60, 61, 62, 63, 64], [1, 10, 19, 28, 5, 14, 23, 32, 9, 2  …  35, 44, 61, 54, 47, 40, 57, 50, 43, 36]])\n",
       " Hgroup{3}(2, 2, 3, [[1, 9, 17, 25, 33, 41, 49, 57, 2, 10  …  55, 63, 8, 16, 24, 32, 40, 48, 56, 64], [1, 2, 3, 4, 37, 38, 39, 40, 10, 9  …  21, 22, 60, 59, 58, 57, 32, 31, 30, 29], [1, 10, 19, 28, 33, 42, 51, 60, 2, 9  …  21, 30, 40, 47, 54, 61, 8, 15, 22, 29], [1, 9, 17, 25, 37, 45, 53, 61, 10, 2  …  35, 43, 32, 24, 16, 8, 60, 52, 44, 36], [1, 2, 3, 4, 5, 6, 7, 8, 9, 10  …  55, 56, 57, 58, 59, 60, 61, 62, 63, 64], [1, 10, 19, 28, 5, 14, 23, 32, 9, 2  …  35, 44, 61, 54, 47, 40, 57, 50, 43, 36]])\n",
       " NoisyGHZMeasureNoisyReset(GHZMeasure(3, 3, 3), 0.99, 1.0)\n",
       " NoisyGHZMeasureNoisyReset(GHZMeasure(3, 1, 2), 0.99, 1.0)"
      ]
     },
     "metadata": {},
     "output_type": "display_data"
    }
   ],
   "source": [
    "gate=[Hgroup{3}(2, 1, 3), \n",
    "Hgroup{3}(2, 2, 3), \n",
    "NoisyGHZMeasureNoisyReset(GHZMeasure(3, 3, 3), 0.99), \n",
    "NoisyGHZMeasureNoisyReset(GHZMeasure(3, 1, 2), 0.99)]"
   ]
  },
  {
   "cell_type": "code",
   "execution_count": 17,
   "id": "ff84cb12",
   "metadata": {},
   "outputs": [
    {
     "data": {
      "text/plain": [
       "1-element Vector{Hgroup{3}}:\n",
       " Hgroup{3}(2, 1, 3, [[1, 9, 17, 25, 33, 41, 49, 57, 2, 10  …  55, 63, 8, 16, 24, 32, 40, 48, 56, 64], [1, 2, 3, 4, 37, 38, 39, 40, 10, 9  …  21, 22, 60, 59, 58, 57, 32, 31, 30, 29], [1, 10, 19, 28, 33, 42, 51, 60, 2, 9  …  21, 30, 40, 47, 54, 61, 8, 15, 22, 29], [1, 9, 17, 25, 37, 45, 53, 61, 10, 2  …  35, 43, 32, 24, 16, 8, 60, 52, 44, 36], [1, 2, 3, 4, 5, 6, 7, 8, 9, 10  …  55, 56, 57, 58, 59, 60, 61, 62, 63, 64], [1, 10, 19, 28, 5, 14, 23, 32, 9, 2  …  35, 44, 61, 54, 47, 40, 57, 50, 43, 36]])"
      ]
     },
     "metadata": {},
     "output_type": "display_data"
    }
   ],
   "source": [
    "gate=[Hgroup{3}(2, 1, 3)]"
   ]
  },
  {
   "cell_type": "code",
   "execution_count": 18,
   "id": "7009a932",
   "metadata": {},
   "outputs": [
    {
     "data": {
      "text/plain": [
       "3-element Vector{Any}:\n",
       " SparseGate{QuantumClifford.Tableau{SubArray{UInt8, 1, Vector{UInt8}, Tuple{UnitRange{Int64}}, true}, SubArray{UInt64, 2, Matrix{UInt64}, Tuple{Base.Slice{Base.OneTo{Int64}}, UnitRange{Int64}}, true}}}(CliffordOperator on 2 qubits, [1, 7])\n",
       " SparseGate{QuantumClifford.Tableau{SubArray{UInt8, 1, Vector{UInt8}, Tuple{UnitRange{Int64}}, true}, SubArray{UInt64, 2, Matrix{UInt64}, Tuple{Base.Slice{Base.OneTo{Int64}}, UnitRange{Int64}}, true}}}(CliffordOperator on 2 qubits, [2, 8])\n",
       " SparseGate{QuantumClifford.Tableau{SubArray{UInt8, 1, Vector{UInt8}, Tuple{UnitRange{Int64}}, true}, SubArray{UInt64, 2, Matrix{UInt64}, Tuple{Base.Slice{Base.OneTo{Int64}}, UnitRange{Int64}}, true}}}(CliffordOperator on 2 qubits, [3, 9])"
      ]
     },
     "metadata": {},
     "output_type": "display_data"
    }
   ],
   "source": [
    "toQCcircuit(gate)"
   ]
  },
  {
   "cell_type": "markdown",
   "id": "3793c06d",
   "metadata": {},
   "source": [
    "`toQCcircuit` will produce a series of gates in QuantumClifford which can be directly applied to the state. <br>\n",
    "Note: need to be careful about measurement, the result need to be check separately."
   ]
  },
  {
   "cell_type": "code",
   "execution_count": 19,
   "id": "f6d01d48",
   "metadata": {},
   "outputs": [
    {
     "data": {
      "text/plain": [
       "3-element Vector{Any}:\n",
       " SparseGate{QuantumClifford.Tableau{SubArray{UInt8, 1, Vector{UInt8}, Tuple{UnitRange{Int64}}, true}, SubArray{UInt64, 2, Matrix{UInt64}, Tuple{Base.Slice{Base.OneTo{Int64}}, UnitRange{Int64}}, true}}}(CliffordOperator on 2 qubits, [1, 7])\n",
       " SparseGate{QuantumClifford.Tableau{SubArray{UInt8, 1, Vector{UInt8}, Tuple{UnitRange{Int64}}, true}, SubArray{UInt64, 2, Matrix{UInt64}, Tuple{Base.Slice{Base.OneTo{Int64}}, UnitRange{Int64}}, true}}}(CliffordOperator on 2 qubits, [2, 8])\n",
       " SparseGate{QuantumClifford.Tableau{SubArray{UInt8, 1, Vector{UInt8}, Tuple{UnitRange{Int64}}, true}, SubArray{UInt64, 2, Matrix{UInt64}, Tuple{Base.Slice{Base.OneTo{Int64}}, UnitRange{Int64}}, true}}}(CliffordOperator on 2 qubits, [3, 9])"
      ]
     },
     "metadata": {},
     "output_type": "display_data"
    }
   ],
   "source": [
    "qcgates=toQCcircuit(gate)"
   ]
  },
  {
   "cell_type": "code",
   "execution_count": 24,
   "id": "0faf73aa",
   "metadata": {},
   "outputs": [
    {
     "data": {
      "text/plain": [
       "+ XXX______\n",
       "+ ___XXX___\n",
       "+ ______XXX\n",
       "+ Z_Z______\n",
       "+ _ZZ______\n",
       "+ ___Z_Z___\n",
       "+ ____ZZ___\n",
       "+ ______Z_Z\n",
       "+ _______ZZ"
      ]
     },
     "metadata": {},
     "output_type": "display_data"
    }
   ],
   "source": [
    "for g in qcgates\n",
    "    if g isa SparseGate\n",
    "        apply!(qcstate, g)\n",
    "    else\n",
    "        qcstate, result=projectrand!(qcstate, g)\n",
    "    end\n",
    "end\n",
    "canonicalize!(qcstate)"
   ]
  }
 ],
 "metadata": {
  "kernelspec": {
   "display_name": "Julia 1.11.3",
   "language": "julia",
   "name": "julia-1.11"
  },
  "language_info": {
   "file_extension": ".jl",
   "mimetype": "application/julia",
   "name": "julia",
   "version": "1.11.3"
  }
 },
 "nbformat": 4,
 "nbformat_minor": 5
}
